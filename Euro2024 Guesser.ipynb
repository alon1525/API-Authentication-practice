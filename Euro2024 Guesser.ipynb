{
  "nbformat": 4,
  "nbformat_minor": 0,
  "metadata": {
    "colab": {
      "provenance": [],
      "authorship_tag": "ABX9TyPDRCUP+WIromMheyqdEdl7",
      "include_colab_link": true
    },
    "kernelspec": {
      "name": "python3",
      "display_name": "Python 3"
    },
    "language_info": {
      "name": "python"
    }
  },
  "cells": [
    {
      "cell_type": "markdown",
      "metadata": {
        "id": "view-in-github",
        "colab_type": "text"
      },
      "source": [
        "<a href=\"https://colab.research.google.com/github/alon1525/API-Authentication-practice/blob/main/Euro2024%20Guesser.ipynb\" target=\"_parent\"><img src=\"https://colab.research.google.com/assets/colab-badge.svg\" alt=\"Open In Colab\"/></a>"
      ]
    },
    {
      "cell_type": "code",
      "execution_count": 10,
      "metadata": {
        "colab": {
          "base_uri": "https://localhost:8080/"
        },
        "id": "70MhXNicfUEu",
        "outputId": "c4378281-fe37-4cd2-a3ad-0de4563502b7"
      },
      "outputs": [
        {
          "output_type": "stream",
          "name": "stdout",
          "text": [
            "The most common result between Italy and Switzerland is: (1, 1)\n",
            "The most common result between Germany and Denmark is: (1, 0)\n",
            "The most common result between Spain and Georgia is: (1, 0)\n",
            "The most common result between Slovenia and Portugal is: (0, 1)\n",
            "The most common result between England and Slovakia is: (2, 1)\n",
            "The most common result between Turkey and Austria is: (1, 1)\n",
            "The most common result between Belgium and France is: (0, 1)\n",
            "The most common result between Netherlands and Romania is: (2, 0)\n"
          ]
        }
      ],
      "source": [
        "import random\n",
        "from collections import Counter\n",
        "\n",
        "# Team rankings dictionary\n",
        "team_rankings = {\n",
        "    \"Germany\": 2, \"France\": 4, \"England\": 1, \"Spain\": 3, \"Portugal\": 5, \"Netherlands\": 6,\n",
        "    \"Italy\": 7, \"Switzerland\": 9, \"Belgium\": 10, \"Turkey\": 11, \"Austria\": 8,\n",
        "    \"Denmark\": 12, \"Romania\": 13, \"Slovakia\": 14, \"Slovenia\": 15, \"Georgia\": 16,\n",
        "}\n",
        "\n",
        "my_team_rankings ={\n",
        "    \"Germany\": 1, \"France\": 4, \"England\": 3, \"Spain\": 2, \"Portugal\": 5, \"Netherlands\": 7,\n",
        "    \"Italy\": 10, \"Switzerland\": 8, \"Belgium\": 9, \"Turkey\": 12, \"Austria\": 6,\n",
        "    \"Denmark\": 11, \"Romania\": 13, \"Slovakia\": 14, \"Slovenia\": 15, \"Georgia\": 16,\n",
        "}\n",
        "\n",
        "result_count ={\n",
        "  (1, 5): 1,\n",
        "  (1, 3): 3,\n",
        "  (0, 2): 3,\n",
        "  (1, 1): 9,\n",
        "  (0, 1): 6,\n",
        "  (0, 3): 3,\n",
        "  (1, 2): 5,\n",
        "  (2, 2): 1,\n",
        "  (0, 0): 4,\n",
        "  (2, 3): 1}\n",
        "\n",
        "# List of remaining games\n",
        "remaining_games = [\n",
        "    [\"Italy\", \"Switzerland\"],\n",
        "    [\"Germany\", \"Denmark\"],\n",
        "    [\"Spain\", \"Georgia\"],\n",
        "    [\"Slovenia\", \"Portugal\"],\n",
        "    [\"England\", \"Slovakia\"],\n",
        "    [\"Turkey\", \"Austria\"],\n",
        "    [\"Belgium\", \"France\"],\n",
        "    [\"Netherlands\", \"Romania\"],\n",
        "]\n",
        "# Function to get the rank of a team from the dictionary\n",
        "def get_team_rank(team_name):\n",
        "    return my_team_rankings.get(team_name, None)\n",
        "\n",
        "# Function to simulate a match outcome\n",
        "def match_result(team1, team2):\n",
        "    # Define possible outcomes\n",
        "    outcomes = [(1, 0), (0, 1), (2, 1), (1, 2), (1, 1), (2, 0), (0, 2)]\n",
        "\n",
        "    # Get team levels\n",
        "    level1 = get_team_rank(team1)\n",
        "    level2 = get_team_rank(team2)\n",
        "\n",
        "    # Calculate the chance modifiers based on team levels\n",
        "    total_level = level1 + level2\n",
        "    win_chance_team1 = (16-level1) / total_level\n",
        "    win_chance_team2 = (16-level2) / total_level\n",
        "    draw_chance = (1 - abs(level1 - level2) / 16)\n",
        "\n",
        "    # Normalize the chances to sum to 1\n",
        "    total_chance = win_chance_team1 + win_chance_team2 + draw_chance\n",
        "    win_chance_team1 /= total_chance\n",
        "    win_chance_team2 /= total_chance\n",
        "    draw_chance /= total_chance\n",
        "\n",
        "    # Assign chances to outcomes\n",
        "    chances = [\n",
        "        ((1, 0), win_chance_team1), ((0, 1), win_chance_team2),\n",
        "        ((2, 1), win_chance_team1), ((1, 2), win_chance_team2),\n",
        "        ((1, 1), draw_chance), ((2, 0), win_chance_team1), ((0, 2), win_chance_team2)\n",
        "    ]\n",
        "\n",
        "    # Create a weighted list of outcomes based on their chances\n",
        "    weighted_outcomes = []\n",
        "    for outcome, chance in chances:\n",
        "        weighted_outcomes.extend([outcome] * int(chance * 100))\n",
        "\n",
        "    # Choose a random outcome from the weighted list\n",
        "    result = random.choice(weighted_outcomes)\n",
        "\n",
        "    return result\n",
        "\n",
        "\n",
        "# Function to run the match_result function 100 times and find the most common result\n",
        "def most_frequent_result(team1, team2, simulations=100):\n",
        "    results = [match_result(team1, team2) for _ in range(simulations)]\n",
        "    most_common_result = Counter(results).most_common(1)[0][0]\n",
        "    return most_common_result\n",
        "\n",
        "\n",
        "for game in remaining_games:\n",
        "    team1, team2 = game\n",
        "    result = most_frequent_result(team1, team2)\n",
        "    print(f\"The most common result between {team1} and {team2} is: {result}\")\n"
      ]
    },
    {
      "cell_type": "code",
      "source": [
        "# Dictionary to store count of each score\n",
        "score_counts = {}\n",
        "\n",
        "# List of all match results\n",
        "match_results = [\n",
        "    \"Germany 5–1 Scotland\",\n",
        "    \"Hungary 1–3 Switzerland\",\n",
        "    \"Germany 2–0 Hungary\",\n",
        "    \"Scotland 1–1 Switzerland\",\n",
        "    \"Switzerland 1–1 Germany\",\n",
        "    \"Scotland 0–1 Hungary\",\n",
        "    \"Spain 3–0 Croatia\",\n",
        "    \"Italy 2–1 Albania\",\n",
        "    \"Croatia 2–2 Albania\",\n",
        "    \"Spain 1–0 Italy\",\n",
        "    \"Albania 0–1 Spain\",\n",
        "    \"Croatia 1–1 Italy\",\n",
        "    \"Slovenia 1–1 Denmark\",\n",
        "    \"Serbia 0–1 England\",\n",
        "    \"Slovenia 1–1 Serbia\",\n",
        "    \"Denmark 1–1 England\",\n",
        "    \"England 0–0 Slovenia\",\n",
        "    \"Denmark 0–0 Serbia\",\n",
        "    \"Poland 1–2 Netherlands\",\n",
        "    \"Austria 0–1 France\",\n",
        "    \"Poland 1–3 Austria\",\n",
        "    \"Netherlands 0–0 France\",\n",
        "    \"Netherlands 2–3 Austria\",\n",
        "    \"France 1–1 Poland\",\n",
        "    \"Romania 3–0 Ukraine\",\n",
        "    \"Belgium 0–1 Slovakia\",\n",
        "    \"Slovakia 1–2 Ukraine\",\n",
        "    \"Belgium 2–0 Romania\",\n",
        "    \"Slovakia 1–1 Romania\",\n",
        "    \"Ukraine 0–0 Belgium\",\n",
        "    \"Turkey 3–1 Georgia\",\n",
        "    \"Portugal 2–1 Czech Republic\",\n",
        "    \"Georgia 1–1 Czech Republic\",\n",
        "    \"Turkey 0–3 Portugal\",\n",
        "    \"Georgia 2–0 Portugal\",\n",
        "    \"CzechRepublic 1–2 Turkey\"\n",
        "]\n",
        "\n",
        "# Function to extract and normalize scores from match result string\n",
        "def extract_scores(match_result):\n",
        "    scores = match_result.split(\" \")[1]  # Extracting the scores part\n",
        "    team_scores = scores.split(\"–\")  # Splitting into individual team scores\n",
        "    score_tuple = (int(team_scores[0]), int(team_scores[1]))\n",
        "    return tuple(sorted(score_tuple))  # Normalize by sorting\n",
        "\n",
        "# Counting occurrences of each score\n",
        "for result in match_results:\n",
        "    scores = extract_scores(result)\n",
        "    if scores in score_counts:\n",
        "        score_counts[scores] += 1\n",
        "    else:\n",
        "        score_counts[scores] = 1\n",
        "\n",
        "score_counts\n"
      ],
      "metadata": {
        "colab": {
          "base_uri": "https://localhost:8080/"
        },
        "id": "HKxVQvF4oGAN",
        "outputId": "c4adfd0b-e7c6-46de-e31d-3395a61d0232"
      },
      "execution_count": 26,
      "outputs": [
        {
          "output_type": "execute_result",
          "data": {
            "text/plain": [
              "{(1, 5): 1,\n",
              " (1, 3): 3,\n",
              " (0, 2): 3,\n",
              " (1, 1): 9,\n",
              " (0, 1): 6,\n",
              " (0, 3): 3,\n",
              " (1, 2): 5,\n",
              " (2, 2): 1,\n",
              " (0, 0): 4,\n",
              " (2, 3): 1}"
            ]
          },
          "metadata": {},
          "execution_count": 26
        }
      ]
    }
  ]
}